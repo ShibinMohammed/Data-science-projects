{
  "nbformat": 4,
  "nbformat_minor": 0,
  "metadata": {
    "colab": {
      "provenance": [],
      "include_colab_link": true
    },
    "kernelspec": {
      "name": "python3",
      "display_name": "Python 3"
    }
  },
  "cells": [
    {
      "cell_type": "markdown",
      "metadata": {
        "id": "view-in-github",
        "colab_type": "text"
      },
      "source": [
        "<a href=\"https://colab.research.google.com/github/ShibinMohammed/Data-science-projects/blob/main/Credit_Card_Clients_in_Taiwan_in_2005.ipynb\" target=\"_parent\"><img src=\"https://colab.research.google.com/assets/colab-badge.svg\" alt=\"Open In Colab\"/></a>"
      ]
    },
    {
      "cell_type": "markdown",
      "metadata": {
        "id": "ZPaZWzKAUtW0"
      },
      "source": [
        "# Credit Card Clients in Taiwan in 2005"
      ]
    },
    {
      "cell_type": "markdown",
      "metadata": {
        "id": "SEI3nnNZCPEu"
      },
      "source": [
        "---"
      ]
    },
    {
      "cell_type": "markdown",
      "metadata": {
        "id": "ibTCN41WcROt"
      },
      "source": [
        "### Dataset Information\n",
        "\n",
        "This dataset contains information on default payments, demographic factors, credit data, history of payment, and bill statements of credit card clients in Taiwan from April 2005 to September 2005. There are 25 features in the dataset. They are as follows:\n",
        "\n",
        "1. `ID:` Identification of each credit card client\n",
        "\n",
        "2. `LIMIT_BAL:` The maximum amount or credit (in NT dollar) a client can spend in a month (includes individual and family/supplementary credit)\n",
        "\n",
        "3. `SEX`: Gender of a client where`1` denotes male client and `2` denotes a female client\n",
        "\n",
        "4. `EDUCATION`: Education qualification of a credit card holder:\n",
        "\n",
        "      - `1` denotes that a client graduated from a graduate school\n",
        "\n",
        "      - `2` denotes that a client is a university graduate\n",
        "\n",
        "      - `3` denotes that a client is a high school graduate\n",
        "\n",
        "      - `4` denotes that a client graduated from some other institution\n",
        "\n",
        "      - `5` denotes that the graduation status of a client is unknown\n",
        "\n",
        "5. `MARRIAGE`: Marital status of a client:\n",
        "    \n",
        "      - `1` denotes that the client is married\n",
        "      \n",
        "      - `2` denotes that the client is single or unmarried\n",
        "      \n",
        "      - `3` covers all the other possibilities of marital status such as divorced, widowed etc\n",
        "\n",
        "6. `AGE`: Age of a client in years\n",
        "\n",
        "7. `PAY_0`: Repayment status of a client in September 2005\n",
        "      \n",
        "      - `-1` denotes the payment is not due\n",
        "\n",
        "      - `1` denotes that the payment is delayed by one month\n",
        "\n",
        "      - `2` denotes that the payment is delayed by two months\n",
        "\n",
        "        ...\n",
        "\n",
        "      - `8` denotes that the payment is delayed by eight months\n",
        "\n",
        "      - `9` denotes that the payment is delayed by nine months and above\n",
        "\n",
        "8. `PAY_2`: Repayment status of a client in August 2005 (scale same as above)\n",
        "\n",
        "9. `PAY_3`: Repayment status of a client in July 2005 (scale same as above)\n",
        "\n",
        "10. `PAY_4`: Repayment status of a client in June 2005 (scale same as above)\n",
        "\n",
        "11. `PAY_5`: Repayment status of a client in May 2005 (scale same as above)\n",
        "\n",
        "12. `PAY_6`: Repayment status of a client in April 2005 (scale same as above)\n",
        "\n",
        "13. `BILL_AMT1`: Amount of bill statement in September 2005 (NT dollar)\n",
        "\n",
        "14. `BILL_AMT2`: Amount of bill statement in August 2005 (NT dollar)\n",
        "\n",
        "15. `BILL_AMT3`: Amount of bill statement in July 2005 (NT dollar)\n",
        "\n",
        "16. `BILL_AMT4`: Amount of bill statement in June 2005 (NT dollar)\n",
        "\n",
        "17. `BILL_AMT5`: Amount of bill statement in May 2005 (NT dollar)\n",
        "\n",
        "18. `BILL_AMT6`: Amount of bill statement in April 2005 (NT dollar)\n",
        "\n",
        "19. `PAY_AMT1`: Amount of previous payment in September 2005 (NT dollar)\n",
        "\n",
        "20. `PAY_AMT2`: Amount of previous payment in August 2005 (NT dollar)\n",
        "\n",
        "21. `PAY_AMT3`: Amount of previous payment in July 2005 (NT dollar)\n",
        "\n",
        "22. `PAY_AMT4`: Amount of previous payment in June 2005 (NT dollar)\n",
        "\n",
        "23. `PAY_AMT5`: Amount of previous payment in May 2005 (NT dollar)\n",
        "\n",
        "24. `PAY_AMT6`: Amount of previous payment in April 2005 (NT dollar)\n",
        "\n",
        "25. `default.payment.next.month`: The default payment status of a client in the following month (October) where\n",
        "\n",
        "      - `1` means `yes` the client is a defaulter i.e., they failed to make the payment due in the following month\n",
        "\n",
        "      - `0` means `no` the client is NOT a defaulter i.e., they successfully made the payment due in the following month\n",
        "\n",
        "### Acknowledgements\n",
        "\n",
        "Lichman, M. (2013). UCI Machine Learning Repository [http://archive.ics.uci.edu/ml]. Irvine, CA: University of California, School of Information and\n",
        "Computer Science.\n",
        "\n",
        "Click on the link provided below to get the original dataset from the UCI Machine Learning repository.\n",
        "\n",
        "https://archive.ics.uci.edu/ml/datasets/default+of+credit+card+clients\n"
      ]
    },
    {
      "cell_type": "markdown",
      "metadata": {
        "id": "Qv7lPHVveNv8"
      },
      "source": [
        "---"
      ]
    },
    {
      "cell_type": "code",
      "metadata": {
        "id": "HW5hcd7qbZee"
      },
      "source": [
        "# Import the modules\n",
        "import pandas as pd\n",
        "import matplotlib.pyplot as plt\n",
        "import seaborn as sns"
      ],
      "execution_count": null,
      "outputs": []
    },
    {
      "cell_type": "code",
      "metadata": {
        "id": "-XMAJfmOcLbi",
        "colab": {
          "base_uri": "https://localhost:8080/",
          "height": 224
        },
        "outputId": "1922018e-6c32-4d75-fc4a-d35b076f346a"
      },
      "source": [
        "# Load the dataset.\n",
        "cred_card_df = pd.read_csv('https://student-datasets-bucket.s3.ap-south-1.amazonaws.com/whitehat-ds-datasets/uci-credit-card-fraud/UCI_Credit_Card.csv')\n",
        "cred_card_df.head()"
      ],
      "execution_count": null,
      "outputs": [
        {
          "output_type": "execute_result",
          "data": {
            "text/html": [
              "<div>\n",
              "<style scoped>\n",
              "    .dataframe tbody tr th:only-of-type {\n",
              "        vertical-align: middle;\n",
              "    }\n",
              "\n",
              "    .dataframe tbody tr th {\n",
              "        vertical-align: top;\n",
              "    }\n",
              "\n",
              "    .dataframe thead th {\n",
              "        text-align: right;\n",
              "    }\n",
              "</style>\n",
              "<table border=\"1\" class=\"dataframe\">\n",
              "  <thead>\n",
              "    <tr style=\"text-align: right;\">\n",
              "      <th></th>\n",
              "      <th>ID</th>\n",
              "      <th>LIMIT_BAL</th>\n",
              "      <th>SEX</th>\n",
              "      <th>EDUCATION</th>\n",
              "      <th>MARRIAGE</th>\n",
              "      <th>AGE</th>\n",
              "      <th>PAY_0</th>\n",
              "      <th>PAY_2</th>\n",
              "      <th>PAY_3</th>\n",
              "      <th>PAY_4</th>\n",
              "      <th>PAY_5</th>\n",
              "      <th>PAY_6</th>\n",
              "      <th>BILL_AMT1</th>\n",
              "      <th>BILL_AMT2</th>\n",
              "      <th>BILL_AMT3</th>\n",
              "      <th>BILL_AMT4</th>\n",
              "      <th>BILL_AMT5</th>\n",
              "      <th>BILL_AMT6</th>\n",
              "      <th>PAY_AMT1</th>\n",
              "      <th>PAY_AMT2</th>\n",
              "      <th>PAY_AMT3</th>\n",
              "      <th>PAY_AMT4</th>\n",
              "      <th>PAY_AMT5</th>\n",
              "      <th>PAY_AMT6</th>\n",
              "      <th>default.payment.next.month</th>\n",
              "    </tr>\n",
              "  </thead>\n",
              "  <tbody>\n",
              "    <tr>\n",
              "      <th>0</th>\n",
              "      <td>1</td>\n",
              "      <td>20000.0</td>\n",
              "      <td>2</td>\n",
              "      <td>2</td>\n",
              "      <td>1</td>\n",
              "      <td>24</td>\n",
              "      <td>2</td>\n",
              "      <td>2</td>\n",
              "      <td>-1</td>\n",
              "      <td>-1</td>\n",
              "      <td>-2</td>\n",
              "      <td>-2</td>\n",
              "      <td>3913.0</td>\n",
              "      <td>3102.0</td>\n",
              "      <td>689.0</td>\n",
              "      <td>0.0</td>\n",
              "      <td>0.0</td>\n",
              "      <td>0.0</td>\n",
              "      <td>0.0</td>\n",
              "      <td>689.0</td>\n",
              "      <td>0.0</td>\n",
              "      <td>0.0</td>\n",
              "      <td>0.0</td>\n",
              "      <td>0.0</td>\n",
              "      <td>1</td>\n",
              "    </tr>\n",
              "    <tr>\n",
              "      <th>1</th>\n",
              "      <td>2</td>\n",
              "      <td>120000.0</td>\n",
              "      <td>2</td>\n",
              "      <td>2</td>\n",
              "      <td>2</td>\n",
              "      <td>26</td>\n",
              "      <td>-1</td>\n",
              "      <td>2</td>\n",
              "      <td>0</td>\n",
              "      <td>0</td>\n",
              "      <td>0</td>\n",
              "      <td>2</td>\n",
              "      <td>2682.0</td>\n",
              "      <td>1725.0</td>\n",
              "      <td>2682.0</td>\n",
              "      <td>3272.0</td>\n",
              "      <td>3455.0</td>\n",
              "      <td>3261.0</td>\n",
              "      <td>0.0</td>\n",
              "      <td>1000.0</td>\n",
              "      <td>1000.0</td>\n",
              "      <td>1000.0</td>\n",
              "      <td>0.0</td>\n",
              "      <td>2000.0</td>\n",
              "      <td>1</td>\n",
              "    </tr>\n",
              "    <tr>\n",
              "      <th>2</th>\n",
              "      <td>3</td>\n",
              "      <td>90000.0</td>\n",
              "      <td>2</td>\n",
              "      <td>2</td>\n",
              "      <td>2</td>\n",
              "      <td>34</td>\n",
              "      <td>0</td>\n",
              "      <td>0</td>\n",
              "      <td>0</td>\n",
              "      <td>0</td>\n",
              "      <td>0</td>\n",
              "      <td>0</td>\n",
              "      <td>29239.0</td>\n",
              "      <td>14027.0</td>\n",
              "      <td>13559.0</td>\n",
              "      <td>14331.0</td>\n",
              "      <td>14948.0</td>\n",
              "      <td>15549.0</td>\n",
              "      <td>1518.0</td>\n",
              "      <td>1500.0</td>\n",
              "      <td>1000.0</td>\n",
              "      <td>1000.0</td>\n",
              "      <td>1000.0</td>\n",
              "      <td>5000.0</td>\n",
              "      <td>0</td>\n",
              "    </tr>\n",
              "    <tr>\n",
              "      <th>3</th>\n",
              "      <td>4</td>\n",
              "      <td>50000.0</td>\n",
              "      <td>2</td>\n",
              "      <td>2</td>\n",
              "      <td>1</td>\n",
              "      <td>37</td>\n",
              "      <td>0</td>\n",
              "      <td>0</td>\n",
              "      <td>0</td>\n",
              "      <td>0</td>\n",
              "      <td>0</td>\n",
              "      <td>0</td>\n",
              "      <td>46990.0</td>\n",
              "      <td>48233.0</td>\n",
              "      <td>49291.0</td>\n",
              "      <td>28314.0</td>\n",
              "      <td>28959.0</td>\n",
              "      <td>29547.0</td>\n",
              "      <td>2000.0</td>\n",
              "      <td>2019.0</td>\n",
              "      <td>1200.0</td>\n",
              "      <td>1100.0</td>\n",
              "      <td>1069.0</td>\n",
              "      <td>1000.0</td>\n",
              "      <td>0</td>\n",
              "    </tr>\n",
              "    <tr>\n",
              "      <th>4</th>\n",
              "      <td>5</td>\n",
              "      <td>50000.0</td>\n",
              "      <td>1</td>\n",
              "      <td>2</td>\n",
              "      <td>1</td>\n",
              "      <td>57</td>\n",
              "      <td>-1</td>\n",
              "      <td>0</td>\n",
              "      <td>-1</td>\n",
              "      <td>0</td>\n",
              "      <td>0</td>\n",
              "      <td>0</td>\n",
              "      <td>8617.0</td>\n",
              "      <td>5670.0</td>\n",
              "      <td>35835.0</td>\n",
              "      <td>20940.0</td>\n",
              "      <td>19146.0</td>\n",
              "      <td>19131.0</td>\n",
              "      <td>2000.0</td>\n",
              "      <td>36681.0</td>\n",
              "      <td>10000.0</td>\n",
              "      <td>9000.0</td>\n",
              "      <td>689.0</td>\n",
              "      <td>679.0</td>\n",
              "      <td>0</td>\n",
              "    </tr>\n",
              "  </tbody>\n",
              "</table>\n",
              "</div>"
            ],
            "text/plain": [
              "   ID  LIMIT_BAL  SEX  ...  PAY_AMT5  PAY_AMT6  default.payment.next.month\n",
              "0   1    20000.0    2  ...       0.0       0.0                           1\n",
              "1   2   120000.0    2  ...       0.0    2000.0                           1\n",
              "2   3    90000.0    2  ...    1000.0    5000.0                           0\n",
              "3   4    50000.0    2  ...    1069.0    1000.0                           0\n",
              "4   5    50000.0    1  ...     689.0     679.0                           0\n",
              "\n",
              "[5 rows x 25 columns]"
            ]
          },
          "metadata": {
            "tags": []
          },
          "execution_count": 2
        }
      ]
    },
    {
      "cell_type": "code",
      "metadata": {
        "id": "9IOUoHQecnev",
        "colab": {
          "base_uri": "https://localhost:8080/"
        },
        "outputId": "ae5c84de-b039-499b-c0cf-01fbe13d5868"
      },
      "source": [
        "# Number of rows and columns.\n",
        "cred_card_df.shape"
      ],
      "execution_count": null,
      "outputs": [
        {
          "output_type": "execute_result",
          "data": {
            "text/plain": [
              "(30000, 25)"
            ]
          },
          "metadata": {
            "tags": []
          },
          "execution_count": 3
        }
      ]
    },
    {
      "cell_type": "code",
      "metadata": {
        "id": "L5II9k_sS24S",
        "colab": {
          "base_uri": "https://localhost:8080/"
        },
        "outputId": "21e29bce-f13f-4c1e-c6e1-dca8451fc772"
      },
      "source": [
        "# Check for the missing values.\n",
        "cred_card_df.isna().sum()"
      ],
      "execution_count": null,
      "outputs": [
        {
          "output_type": "execute_result",
          "data": {
            "text/plain": [
              "ID                            0\n",
              "LIMIT_BAL                     0\n",
              "SEX                           0\n",
              "EDUCATION                     0\n",
              "MARRIAGE                      0\n",
              "AGE                           0\n",
              "PAY_0                         0\n",
              "PAY_2                         0\n",
              "PAY_3                         0\n",
              "PAY_4                         0\n",
              "PAY_5                         0\n",
              "PAY_6                         0\n",
              "BILL_AMT1                     0\n",
              "BILL_AMT2                     0\n",
              "BILL_AMT3                     0\n",
              "BILL_AMT4                     0\n",
              "BILL_AMT5                     0\n",
              "BILL_AMT6                     0\n",
              "PAY_AMT1                      0\n",
              "PAY_AMT2                      0\n",
              "PAY_AMT3                      0\n",
              "PAY_AMT4                      0\n",
              "PAY_AMT5                      0\n",
              "PAY_AMT6                      0\n",
              "default.payment.next.month    0\n",
              "dtype: int64"
            ]
          },
          "metadata": {
            "tags": []
          },
          "execution_count": 4
        }
      ]
    },
    {
      "cell_type": "code",
      "metadata": {
        "id": "tWxRPBq5uEOG",
        "colab": {
          "base_uri": "https://localhost:8080/"
        },
        "outputId": "41a7a2cd-46b8-4ff0-9e57-2fa743c31c0d"
      },
      "source": [
        "# Counts of each value in the 'EDUCATION' column.\n",
        "cred_card_df['EDUCATION'].value_counts()"
      ],
      "execution_count": null,
      "outputs": [
        {
          "output_type": "execute_result",
          "data": {
            "text/plain": [
              "2    14030\n",
              "1    10585\n",
              "3     4917\n",
              "5      280\n",
              "4      123\n",
              "6       51\n",
              "0       14\n",
              "Name: EDUCATION, dtype: int64"
            ]
          },
          "metadata": {
            "tags": []
          },
          "execution_count": 5
        }
      ]
    },
    {
      "cell_type": "code",
      "metadata": {
        "id": "LnAx86MMxZVE",
        "colab": {
          "base_uri": "https://localhost:8080/"
        },
        "outputId": "fc14e93f-adbb-4372-a94c-713bdc032258"
      },
      "source": [
        "# Check the data-type of the 'EDUCATION' column.\n",
        "cred_card_df['EDUCATION'].dtype"
      ],
      "execution_count": null,
      "outputs": [
        {
          "output_type": "execute_result",
          "data": {
            "text/plain": [
              "dtype('int64')"
            ]
          },
          "metadata": {
            "tags": []
          },
          "execution_count": 6
        }
      ]
    },
    {
      "cell_type": "code",
      "metadata": {
        "id": "-JJX4hJCx2jW",
        "colab": {
          "base_uri": "https://localhost:8080/"
        },
        "outputId": "be4000d8-bfb9-4dcf-f62e-47f68b5648b3"
      },
      "source": [
        "# Replace the unwanted values in the 'EDUCATION' column. Ignore if there are none.\n",
        "cred_card_df.loc[cred_card_df['EDUCATION'] == 0,'EDUCATION'] = 5\n",
        "cred_card_df.loc[cred_card_df['EDUCATION'] == 6,'EDUCATION'] = 5\n",
        "cred_card_df['EDUCATION'].value_counts()"
      ],
      "execution_count": null,
      "outputs": [
        {
          "output_type": "execute_result",
          "data": {
            "text/plain": [
              "2    14030\n",
              "1    10585\n",
              "3     4917\n",
              "5      345\n",
              "4      123\n",
              "Name: EDUCATION, dtype: int64"
            ]
          },
          "metadata": {
            "tags": []
          },
          "execution_count": 7
        }
      ]
    },
    {
      "cell_type": "code",
      "metadata": {
        "id": "e1zqGseoWbND",
        "colab": {
          "base_uri": "https://localhost:8080/"
        },
        "outputId": "77c79bc9-c482-410b-fa55-99eca5d6c035"
      },
      "source": [
        "# Percentage of each value in the 'EDUCATION' column.\n",
        "percent = cred_card_df['EDUCATION'].value_counts()*100/cred_card_df.shape[0]\n",
        "percent"
      ],
      "execution_count": null,
      "outputs": [
        {
          "output_type": "execute_result",
          "data": {
            "text/plain": [
              "2    46.766667\n",
              "1    35.283333\n",
              "3    16.390000\n",
              "5     1.150000\n",
              "4     0.410000\n",
              "Name: EDUCATION, dtype: float64"
            ]
          },
          "metadata": {
            "tags": []
          },
          "execution_count": 27
        }
      ]
    },
    {
      "cell_type": "code",
      "metadata": {
        "id": "XBSKyKnRWmjG",
        "colab": {
          "base_uri": "https://localhost:8080/",
          "height": 497
        },
        "outputId": "2b2c8ac3-c8bb-472b-d616-57e9751691a0"
      },
      "source": [
        "# Count plot for the 'EDUCATION' column.\n",
        "plt.figure(figsize=(20,8))\n",
        "sns.countplot(x = 'EDUCATION',data = cred_card_df)\n",
        "plt.grid()\n",
        "plt.show()"
      ],
      "execution_count": null,
      "outputs": [
        {
          "output_type": "display_data",
          "data": {
            "image/png": "[encoded data removed]",
            "text/plain": [
              "<Figure size 1440x576 with 1 Axes>"
            ]
          },
          "metadata": {
            "tags": [],
            "needs_background": "light"
          }
        }
      ]
    },
    {
      "cell_type": "code",
      "metadata": {
        "id": "JqTMqAOwFX03",
        "colab": {
          "base_uri": "https://localhost:8080/"
        },
        "outputId": "f50d4ec5-6252-4f68-ca01-69db2488b408"
      },
      "source": [
        "# Check the data-types of all the columns using the 'info()' function.\n",
        "cred_card_df.info()"
      ],
      "execution_count": null,
      "outputs": [
        {
          "output_type": "stream",
          "text": [
            "<class 'pandas.core.frame.DataFrame'>\n",
            "RangeIndex: 30000 entries, 0 to 29999\n",
            "Data columns (total 25 columns):\n",
            " #   Column                      Non-Null Count  Dtype  \n",
            "---  ------                      --------------  -----  \n",
            " 0   ID                          30000 non-null  int64  \n",
            " 1   LIMIT_BAL                   30000 non-null  float64\n",
            " 2   SEX                         30000 non-null  int64  \n",
            " 3   EDUCATION                   30000 non-null  int64  \n",
            " 4   MARRIAGE                    30000 non-null  int64  \n",
            " 5   AGE                         30000 non-null  int64  \n",
            " 6   PAY_0                       30000 non-null  int64  \n",
            " 7   PAY_2                       30000 non-null  int64  \n",
            " 8   PAY_3                       30000 non-null  int64  \n",
            " 9   PAY_4                       30000 non-null  int64  \n",
            " 10  PAY_5                       30000 non-null  int64  \n",
            " 11  PAY_6                       30000 non-null  int64  \n",
            " 12  BILL_AMT1                   30000 non-null  float64\n",
            " 13  BILL_AMT2                   30000 non-null  float64\n",
            " 14  BILL_AMT3                   30000 non-null  float64\n",
            " 15  BILL_AMT4                   30000 non-null  float64\n",
            " 16  BILL_AMT5                   30000 non-null  float64\n",
            " 17  BILL_AMT6                   30000 non-null  float64\n",
            " 18  PAY_AMT1                    30000 non-null  float64\n",
            " 19  PAY_AMT2                    30000 non-null  float64\n",
            " 20  PAY_AMT3                    30000 non-null  float64\n",
            " 21  PAY_AMT4                    30000 non-null  float64\n",
            " 22  PAY_AMT5                    30000 non-null  float64\n",
            " 23  PAY_AMT6                    30000 non-null  float64\n",
            " 24  default.payment.next.month  30000 non-null  int64  \n",
            "dtypes: float64(13), int64(12)\n",
            "memory usage: 5.7 MB\n"
          ],
          "name": "stdout"
        }
      ]
    },
    {
      "cell_type": "code",
      "metadata": {
        "id": "-ljjfNGwd0im",
        "colab": {
          "base_uri": "https://localhost:8080/"
        },
        "outputId": "79969e35-b7e4-4c68-b004-87663cd0ad97"
      },
      "source": [
        "# Counts of male and female clients.\n",
        "cred_card_df['SEX'].value_counts()"
      ],
      "execution_count": null,
      "outputs": [
        {
          "output_type": "execute_result",
          "data": {
            "text/plain": [
              "2    18112\n",
              "1    11888\n",
              "Name: SEX, dtype: int64"
            ]
          },
          "metadata": {
            "tags": []
          },
          "execution_count": 32
        }
      ]
    },
    {
      "cell_type": "code",
      "metadata": {
        "id": "zQP1sMZxVYhc",
        "colab": {
          "base_uri": "https://localhost:8080/"
        },
        "outputId": "53f78710-6b6b-48fd-bbe1-c653353cfe82"
      },
      "source": [
        "# Percentage of male and female clients.\n",
        "percent_1 = cred_card_df['SEX'].value_counts()*100/cred_card_df.shape[0]\n",
        "percent_1"
      ],
      "execution_count": null,
      "outputs": [
        {
          "output_type": "execute_result",
          "data": {
            "text/plain": [
              "2    60.373333\n",
              "1    39.626667\n",
              "Name: SEX, dtype: float64"
            ]
          },
          "metadata": {
            "tags": []
          },
          "execution_count": 34
        }
      ]
    },
    {
      "cell_type": "code",
      "metadata": {
        "id": "nRBzytfUWJJC",
        "colab": {
          "base_uri": "https://localhost:8080/",
          "height": 497
        },
        "outputId": "f3e8d671-2d03-422b-f7f1-f2ea1518aea4"
      },
      "source": [
        "# Count plot for the gender of clients.\n",
        "plt.figure(figsize=(20,8))\n",
        "sns.countplot(x = 'SEX',data = cred_card_df)\n",
        "plt.grid()\n",
        "plt.show()"
      ],
      "execution_count": null,
      "outputs": [
        {
          "output_type": "display_data",
          "data": {
            "image/png": "[encoded data removed]",
            "text/plain": [
              "<Figure size 1440x576 with 1 Axes>"
            ]
          },
          "metadata": {
            "tags": [],
            "needs_background": "light"
          }
        }
      ]
    },
    {
      "cell_type": "code",
      "metadata": {
        "id": "X-n0yzoLXArk",
        "colab": {
          "base_uri": "https://localhost:8080/"
        },
        "outputId": "f8e51269-c7ae-48d4-b7ff-ba36ac407169"
      },
      "source": [
        "# Counts of each value in the 'MARRIAGE' column.\n",
        "cred_card_df['MARRIAGE'].value_counts()"
      ],
      "execution_count": null,
      "outputs": [
        {
          "output_type": "execute_result",
          "data": {
            "text/plain": [
              "2    15964\n",
              "1    13659\n",
              "3      323\n",
              "0       54\n",
              "Name: MARRIAGE, dtype: int64"
            ]
          },
          "metadata": {
            "tags": []
          },
          "execution_count": 36
        }
      ]
    },
    {
      "cell_type": "code",
      "metadata": {
        "id": "v-OzFIYCtcKf",
        "colab": {
          "base_uri": "https://localhost:8080/"
        },
        "outputId": "11a5f028-a38f-4d76-e2dd-39a8c538c433"
      },
      "source": [
        "# Replace the unwanted values in the 'MARRIAGE' column. Ignore if there are none.\n",
        "cred_card_df.loc[cred_card_df['MARRIAGE'] == 0,'MARRIAGE'] = 3\n",
        "cred_card_df['MARRIAGE'].value_counts()"
      ],
      "execution_count": null,
      "outputs": [
        {
          "output_type": "execute_result",
          "data": {
            "text/plain": [
              "2    15964\n",
              "1    13659\n",
              "3      377\n",
              "Name: MARRIAGE, dtype: int64"
            ]
          },
          "metadata": {
            "tags": []
          },
          "execution_count": 45
        }
      ]
    },
    {
      "cell_type": "code",
      "metadata": {
        "id": "LrtddCErXOdf",
        "colab": {
          "base_uri": "https://localhost:8080/"
        },
        "outputId": "94259b31-38bc-4978-a5f7-6d5508a42d95"
      },
      "source": [
        "# Percentage of the values in the 'MARRIAGE' column.\n",
        "percent_2 = cred_card_df['MARRIAGE'].value_counts()*100/cred_card_df.shape[0]\n",
        "percent_2"
      ],
      "execution_count": null,
      "outputs": [
        {
          "output_type": "execute_result",
          "data": {
            "text/plain": [
              "2    53.213333\n",
              "1    45.530000\n",
              "3     1.256667\n",
              "Name: MARRIAGE, dtype: float64"
            ]
          },
          "metadata": {
            "tags": []
          },
          "execution_count": 46
        }
      ]
    },
    {
      "cell_type": "code",
      "metadata": {
        "id": "gGV27gv-XgqW",
        "colab": {
          "base_uri": "https://localhost:8080/",
          "height": 497
        },
        "outputId": "da21fdc4-322a-4b17-c819-7211c74bfe20"
      },
      "source": [
        "# Count plot for the 'MARRIAGE' column.\n",
        "plt.figure(figsize=(20,8))\n",
        "sns.countplot(x = 'MARRIAGE',data = cred_card_df)\n",
        "plt.grid()\n",
        "plt.show()"
      ],
      "execution_count": null,
      "outputs": [
        {
          "output_type": "display_data",
          "data": {
            "image/png": "[encoded data removed]",
            "text/plain": [
              "<Figure size 1440x576 with 1 Axes>"
            ]
          },
          "metadata": {
            "tags": [],
            "needs_background": "light"
          }
        }
      ]
    },
    {
      "cell_type": "code",
      "metadata": {
        "id": "eObi6-JtACNb",
        "colab": {
          "base_uri": "https://localhost:8080/",
          "height": 552
        },
        "outputId": "cd4d833f-f893-4ae2-ee37-21ce45de704a"
      },
      "source": [
        "# Box plot for the 'AGE' column.\n",
        "plt.figure(figsize=(20,8))\n",
        "sns.boxplot(cred_card_df['AGE'])\n",
        "plt.grid()\n",
        "plt.show()"
      ],
      "execution_count": null,
      "outputs": [
        {
          "output_type": "stream",
          "text": [
            "/usr/local/lib/python3.7/dist-packages/seaborn/_decorators.py:43: FutureWarning: Pass the following variable as a keyword arg: x. From version 0.12, the only valid positional argument will be `data`, and passing other arguments without an explicit keyword will result in an error or misinterpretation.\n",
            "  FutureWarning\n"
          ],
          "name": "stderr"
        },
        {
          "output_type": "display_data",
          "data": {
            "image/png": "[encoded data removed]",
            "text/plain": [
              "<Figure size 1440x576 with 1 Axes>"
            ]
          },
          "metadata": {
            "tags": [],
            "needs_background": "light"
          }
        }
      ]
    },
    {
      "cell_type": "code",
      "metadata": {
        "id": "MmkX2qrsurhZ",
        "colab": {
          "base_uri": "https://localhost:8080/",
          "height": 483
        },
        "outputId": "59ceada3-57f3-4ef2-bbfa-7ef4c0c4e864"
      },
      "source": [
        "# Histogram for the 'AGE' column.\n",
        "plt.figure(figsize=(20,8))\n",
        "plt.hist(cred_card_df['AGE'],bins = 6)\n",
        "plt.grid()\n",
        "plt.show()"
      ],
      "execution_count": null,
      "outputs": [
        {
          "output_type": "display_data",
          "data": {
            "image/png": "[encoded data removed]",
            "text/plain": [
              "<Figure size 1440x576 with 1 Axes>"
            ]
          },
          "metadata": {
            "tags": [],
            "needs_background": "light"
          }
        }
      ]
    },
    {
      "cell_type": "code",
      "metadata": {
        "id": "aTwEfWF6zDuj",
        "colab": {
          "base_uri": "https://localhost:8080/",
          "height": 553
        },
        "outputId": "3ed045d4-8b77-4876-8c49-ca0fa9d49935"
      },
      "source": [
        "# Boxplot for the LIMIT_BAL column.\n",
        "plt.figure(figsize=(20,8))\n",
        "sns.boxplot(cred_card_df['LIMIT_BAL'])\n",
        "plt.grid()\n",
        "plt.show()"
      ],
      "execution_count": null,
      "outputs": [
        {
          "output_type": "stream",
          "text": [
            "/usr/local/lib/python3.7/dist-packages/seaborn/_decorators.py:43: FutureWarning: Pass the following variable as a keyword arg: x. From version 0.12, the only valid positional argument will be `data`, and passing other arguments without an explicit keyword will result in an error or misinterpretation.\n",
            "  FutureWarning\n"
          ],
          "name": "stderr"
        },
        {
          "output_type": "display_data",
          "data": {
            "image/png": "[encoded data removed]",
            "text/plain": [
              "<Figure size 1440x576 with 1 Axes>"
            ]
          },
          "metadata": {
            "tags": [],
            "needs_background": "light"
          }
        }
      ]
    },
    {
      "cell_type": "code",
      "metadata": {
        "id": "-Zi_1PlT8Xug",
        "colab": {
          "base_uri": "https://localhost:8080/",
          "height": 553
        },
        "outputId": "ec897f46-4567-429c-b382-7750fee197c4"
      },
      "source": [
        "# Histogram for the 'LIMIT_BAL' column using a function from the 'seaborn' module.\n",
        "plt.figure(figsize=(20,8))\n",
        "sns.distplot(cred_card_df['LIMIT_BAL'],bins = 6,kde = False)\n",
        "plt.grid()\n",
        "plt.show()"
      ],
      "execution_count": null,
      "outputs": [
        {
          "output_type": "stream",
          "text": [
            "/usr/local/lib/python3.7/dist-packages/seaborn/distributions.py:2557: FutureWarning: `distplot` is a deprecated function and will be removed in a future version. Please adapt your code to use either `displot` (a figure-level function with similar flexibility) or `histplot` (an axes-level function for histograms).\n",
            "  warnings.warn(msg, FutureWarning)\n"
          ],
          "name": "stderr"
        },
        {
          "output_type": "display_data",
          "data": {
            "image/png": "[encoded data removed]",
            "text/plain": [
              "<Figure size 1440x576 with 1 Axes>"
            ]
          },
          "metadata": {
            "tags": [],
            "needs_background": "light"
          }
        }
      ]
    },
    {
      "cell_type": "code",
      "metadata": {
        "id": "ZvQw9HT7ibAJ",
        "colab": {
          "base_uri": "https://localhost:8080/",
          "height": 496
        },
        "outputId": "2311ff62-3fe0-40e4-f30f-87bf99612249"
      },
      "source": [
        "# Histogram (having 50 bins) for the 'LIMIT_BAL' column using a function from the 'matplotlib.pyplot' module.\n",
        "plt.figure(figsize=(20,8))\n",
        "plt.hist(cred_card_df['LIMIT_BAL'],bins = 50)\n",
        "plt.grid()\n",
        "plt.show()"
      ],
      "execution_count": null,
      "outputs": [
        {
          "output_type": "display_data",
          "data": {
            "image/png": "[encoded data removed]",
            "text/plain": [
              "<Figure size 1440x576 with 1 Axes>"
            ]
          },
          "metadata": {
            "tags": [],
            "needs_background": "light"
          }
        }
      ]
    }
  ]
}