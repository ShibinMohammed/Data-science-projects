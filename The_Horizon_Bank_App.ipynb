{
  "nbformat": 4,
  "nbformat_minor": 0,
  "metadata": {
    "colab": {
      "provenance": [],
      "include_colab_link": true
    },
    "kernelspec": {
      "name": "python3",
      "display_name": "Python 3"
    }
  },
  "cells": [
    {
      "cell_type": "markdown",
      "metadata": {
        "id": "view-in-github",
        "colab_type": "text"
      },
      "source": [
        "<a href=\"https://colab.research.google.com/github/ShibinMohammed/Data-science-projects/blob/main/The_Horizon_Bank_App.ipynb\" target=\"_parent\"><img src=\"https://colab.research.google.com/assets/colab-badge.svg\" alt=\"Open In Colab\"/></a>"
      ]
    },
    {
      "cell_type": "markdown",
      "metadata": {
        "id": "UYmMpXkNw9I6"
      },
      "source": [
        "# The Horizon Bank App"
      ]
    },
    {
      "cell_type": "markdown",
      "metadata": {
        "id": "2i36Yv3-MPY5"
      },
      "source": [
        "### Problem Statement\n",
        "\n",
        "Write a computer program to create an interactive bank application for the Horizon Bank. The application must have two simple functionalities:\n",
        "\n",
        "1. Allow a customer to create a new bank account with their following personal details:\n",
        "\n",
        "   - Full name\n",
        "\n",
        "   - Permanent residential address\n",
        "\n",
        "   - Personal or residential phone number\n",
        "\n",
        "   - Valid government-issued identification\n",
        "\n",
        "   - Amount to be deposited to the account\n",
        "\n",
        "2. Allow an existing customer of the bank to\n",
        "\n",
        "   - Check their bank balance\n",
        "   \n",
        "   - Withdraw some amount from their account provided that the withdrawal amount is less than the available bank balance\n",
        "   \n",
        "   - Deposit some amount to their account\n"
      ]
    },
    {
      "cell_type": "markdown",
      "metadata": {
        "id": "Y9JYGh67SE1-"
      },
      "source": [
        "---"
      ]
    },
    {
      "cell_type": "code",
      "metadata": {
        "id": "6RL71w3ntzcH"
      },
      "source": [
        "# Create the 'cust_data' dictionary and the 'new_user_attributes' list.\n",
        "cust_data = {}\n",
        "new_user_attributes = ['name', 'address', 'phone num', 'govt id', 'amount']"
      ],
      "execution_count": null,
      "outputs": []
    },
    {
      "cell_type": "code",
      "metadata": {
        "id": "mROhcvIy0ML6"
      },
      "source": [
        "# Create the 'new_user()' function to add a new user to the 'cust_data' dictionary.\n",
        "import random\n",
        "def new_user():\n",
        "  # Step 1: Create a random five-digit account number\n",
        "  acc_num =random.randint(10000,99999)\n",
        "  while acc_num in cust_data.keys():\n",
        "    acc_num = random.randint(10000,99999)\n",
        "  # Step 2: Create an empty list and store it in the new_user_input variable.\n",
        "  new_user_input = []\n",
        "  for i in range(len(new_user_attributes)):\n",
        "  # Step 3: Prompt the user to enter all of their required details one-by-one and add them to the list new_user_input.\n",
        "    user_input = input('Enter ' + new_user_attributes[i] + ':\\n')\n",
        "    new_user_input.append(user_input)\n",
        "    if (new_user_attributes[i] == 'amount'):\n",
        "      new_user_input.append(int(user_input))\n",
        "  # Step 4: Create a dictionary for the new user and add it to the cust_data dictionary.\n",
        "  cust_data[acc_num] = dict(zip(new_user_attributes, new_user_input))\n",
        "  # Step 5: Display the message of successfull account creation to the user.\n",
        "  print(f'''Your details are added successfully.\n",
        "Your account number is {acc_num}\n",
        "Please don't lose it.''')"
      ],
      "execution_count": null,
      "outputs": []
    },
    {
      "cell_type": "code",
      "metadata": {
        "id": "8HV3cY6O9LeE"
      },
      "source": [
        "# Create the 'existing_user()' function to get the account details of an existing user from the 'cust_data' dictionary.\n",
        "def existing_user():\n",
        "  # Step 1\n",
        "  acc_num = int(input('Please enter your account number:\\n'))\n",
        "  while acc_num not in cust_data:\n",
        "    acc_num = int(input(\"Not found. Please enter your correct account number:\\n\"))\n",
        "  # Step 2\n",
        "  print(f''' Welcome {cust_data[acc_num]['name']} !\n",
        "   Enter 1 to check your balance.\n",
        "   Enter 2 to withdraw an amount.\n",
        "   Enter 3 to deposit an amount.''')\n",
        "  # Step 3\n",
        "  user_choice = int(input('Enter either 1,2 or 3: '))\n",
        "  while user_choice not in [1,2,3]:\n",
        "    print(\"\\nInvalid input!\")\n",
        "    print('''Enter 1 to check your balance.\n",
        "        \\nEnter 2 to withdraw an amount.\n",
        "        \\nEnter 3 to deposit an amount.''')\n",
        "    user_choice = int(input())\n",
        "  # Step 4\n",
        "  if user_choice == 1:\n",
        "    print('Your available balance ',cust_data[acc_num]['amount'])\n",
        "  elif user_choice == 2:\n",
        "    amt = int(input('Enter the amount to be withdrawn: '))\n",
        "    if amt > int(cust_data[acc_num]['amount']):\n",
        "      print(f'''Insufficient balance.\n",
        "            Available balance: {cust_data[acc_num]['amount']}''')\n",
        "    else:\n",
        "      new_amt = int(cust_data[acc_num]['amount']) - amt\n",
        "      cust_data[acc_num]['amount'] = new_amt\n",
        "      print(f'''Withdrawal successful.\n",
        "            Available balance: {cust_data[acc_num]['amount']}''')\n",
        "  elif user_choice == 3:\n",
        "    amt = int(input('Enter the amount to be deposited: '))\n",
        "    new_amt = int(cust_data[acc_num]['amount']) + amt\n",
        "    cust_data[acc_num]['amount'] = new_amt\n",
        "    print(f'''Deposit successful.\n",
        "          Available balance: {cust_data[acc_num]['amount']}''')"
      ],
      "execution_count": null,
      "outputs": []
    },
    {
      "cell_type": "code",
      "metadata": {
        "id": "-QAIIkM1qCNr",
        "colab": {
          "base_uri": "https://localhost:8080/"
        },
        "outputId": "a0e734d2-ac71-4341-c1f0-ee00f4dada5e"
      },
      "source": [
        "# Create an infinite while loop to run the application.\n",
        "while True:\n",
        "  val_inp = [1,2,3]\n",
        "  user_choice = int(input('''Welcome to the Horizon Bank!\n",
        "                      Enter 1 if you are a new customer:\n",
        "                      Enter 2 if you are an existing customer:\n",
        "                      Enter 3 to terminate the application: '''))\n",
        "  while user_choice not in val_inp:\n",
        "    print(\"\\nInvalid input!\")\n",
        "    print('''Enter 1 if you are a new customer:\n",
        "        \\nEnter 2 if you are an existing customer:\n",
        "        \\nEnter 3 to terminate the application: ''')\n",
        "    user_choice = int(input())\n",
        "  # If the user enters 1, then create a new account for the user and get their personal details.\n",
        "  if user_choice == 1:\n",
        "    new_user()\n",
        "    print(f'Thank you, for banking with us!')\n",
        "    break\n",
        "  # If the user enters 2, then display their account balance, reduce their balance or increase their balance depending on their further input.\n",
        "  elif user_choice == 2:\n",
        "    existing_user()\n",
        "    print(f'Thank you, for banking with us!')\n",
        "    break\n",
        "  # If the user enters 3, then terminate the application with the 'Thank you, for banking with us!' message.\n",
        "  elif user_choice == 3:\n",
        "    print(f'Thank you, for banking with us!')\n",
        "    break"
      ],
      "execution_count": null,
      "outputs": [
        {
          "output_type": "stream",
          "text": [
            "Welcome to the Horizon Bank!\n",
            "                      Enter 1 if you are a new customer: \n",
            "                      Enter 2 if you are an existing customer: \n",
            "                      Enter 3 to terminate the application: 1\n",
            "Enter name:\n",
            "Shibin\n",
            "Enter address:\n",
            "Kerala\n",
            "Enter phone num:\n",
            "9876543210\n",
            "Enter govt id:\n",
            "C12345Z\n",
            "Enter amount:\n",
            "15999\n",
            "Your details are added successfully.\n",
            "Your account number is 28314\n",
            "Please don't lose it.\n",
            "Thank you, for banking with us!\n"
          ],
          "name": "stdout"
        }
      ]
    }
  ]
}